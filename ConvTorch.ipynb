{
 "cells": [
  {
   "cell_type": "code",
   "execution_count": 49,
   "id": "18e9e9f5-0fd3-4314-bfb3-597fca108bc2",
   "metadata": {},
   "outputs": [],
   "source": [
    "import torch.nn as nn\n",
    "import torch.nn.functional as F\n",
    "import torch\n",
    "import os\n",
    "import pandas as pd\n",
    "import cv2\n",
    "import torch.optim as optim\n",
    "from tqdm import tqdm"
   ]
  },
  {
   "cell_type": "markdown",
   "id": "aea74d50-802c-43c2-8a76-78c93affddbc",
   "metadata": {},
   "source": [
    "## preprocessing"
   ]
  },
  {
   "cell_type": "code",
   "execution_count": 9,
   "id": "511ff2ae-dac1-4592-9110-28434d264080",
   "metadata": {},
   "outputs": [],
   "source": [
    "train=[]\n",
    "for i in range(1, 50000 + 1):\n",
    "    image_path = os.path.join('train', f\"{i}.png\")\n",
    "    train.append(image_path)"
   ]
  },
  {
   "cell_type": "code",
   "execution_count": 59,
   "id": "cf4ae375-ad8a-4cdf-888a-c13d6f0e128f",
   "metadata": {},
   "outputs": [
    {
     "name": "stdout",
     "output_type": "stream",
     "text": [
      "   id       label  numeric_labels\n",
      "0   1        frog               0\n",
      "1   2       truck               1\n",
      "2   3       truck               1\n",
      "3   4        deer               2\n",
      "4   5  automobile               3\n",
      "tensor([0, 1, 1, 2, 3])\n"
     ]
    }
   ],
   "source": [
    "# Read the CSV file containing labels\n",
    "labels = pd.read_csv(\"trainLabels.csv\")\n",
    "\n",
    "# Convert labels to numeric values\n",
    "labels['numeric_labels'] = pd.factorize(labels['label'])[0]\n",
    "\n",
    "# Display the first 5 rows\n",
    "print(labels.head())\n",
    "\n",
    "main_labels=torch.tensor(labels['numeric_labels'])\n",
    "\n",
    "print(main_labels[:5])"
   ]
  },
  {
   "cell_type": "code",
   "execution_count": 25,
   "id": "245ecca4-1c56-4921-9dc8-fa900eae4523",
   "metadata": {},
   "outputs": [],
   "source": [
    "train_images = []\n",
    "for i in train:\n",
    "    im = cv2.imread(i, cv2.IMREAD_GRAYSCALE)\n",
    "    if im is not None:\n",
    "        im = torch.tensor(im, dtype=torch.float32)  \n",
    "        train_images.append(im)"
   ]
  },
  {
   "cell_type": "code",
   "execution_count": 31,
   "id": "6adde35f-47d0-493d-863f-44bf1d8da998",
   "metadata": {},
   "outputs": [],
   "source": [
    "train_images = torch.cat([img.unsqueeze(0) for img in train_images], dim=0)\n"
   ]
  },
  {
   "cell_type": "code",
   "execution_count": 32,
   "id": "d5fbc096-0fd7-4e29-b002-ed4f237f3bfa",
   "metadata": {},
   "outputs": [
    {
     "name": "stdout",
     "output_type": "stream",
     "text": [
      "tensor([0, 1, 1, 2, 3])\n",
      "torch.Size([50000, 32, 32])\n"
     ]
    }
   ],
   "source": [
    "print(main_labels[:5])\n",
    "print(train_images.shape)"
   ]
  },
  {
   "cell_type": "code",
   "execution_count": 44,
   "id": "f463de34-a701-4240-af4d-a64b8a9b204f",
   "metadata": {},
   "outputs": [],
   "source": [
    "model=nn.Sequential(\n",
    "    nn.Conv2d(1,8,3,1,0),#1->no of input, 8-> kernals, 3-> kernal size, 1->stride,  0->padding\n",
    "    nn.MaxPool2d(2,2),#kernal size , stride\n",
    "    nn.Flatten(),\n",
    "     nn.Linear(8 * 15 * 15, 10),  # Adjust the size according to the output shape after flattening\n",
    "    nn.Softmax(dim=1)  # Softmax activation function\n",
    ")"
   ]
  },
  {
   "cell_type": "code",
   "execution_count": 48,
   "id": "574f8783-2cec-4f6d-b295-3cdeb0ab367b",
   "metadata": {},
   "outputs": [],
   "source": [
    "# Set the optimizer \n",
    "optimizer = optim.SGD(model.parameters(), lr=0.005)\n",
    "\n",
    "criterion = nn.CrossEntropyLoss()"
   ]
  },
  {
   "cell_type": "code",
   "execution_count": 61,
   "id": "912976fe-9f8c-40ae-b4c9-d128b1c905c4",
   "metadata": {},
   "outputs": [
    {
     "name": "stdout",
     "output_type": "stream",
     "text": [
      "Epoch 1, Loss: 2.454777956008911, Accuracy: 10.0%\n",
      "Epoch 2, Loss: 2.45932936668396, Accuracy: 10.0%\n",
      "Epoch 3, Loss: 2.4610745906829834, Accuracy: 10.0%\n"
     ]
    }
   ],
   "source": [
    "for epoch in range(3):\n",
    "    for i in range(len(train_images)):\n",
    "        inp = train_images[i].unsqueeze(0).unsqueeze(0)  # Adding an extra dimension for batch\n",
    "        model.train()\n",
    "        optimizer.zero_grad()\n",
    "        outs = model(inp)  # Model output\n",
    "        loss = criterion(outs.squeeze(0), main_labels[i])  # Ensure correct shape for labels\n",
    "        loss.backward()\n",
    "        optimizer.step()\n",
    "    \n",
    "    # Calculate accuracy\n",
    "    _, predicted = torch.max(outs, 1)  # `outs` not `outputs` here\n",
    "    correct = (predicted == main_labels).sum().item()\n",
    "    accuracy = correct / len(main_labels) * 100\n",
    "\n",
    "    print(f\"Epoch {epoch+1}, Loss: {loss.item()}, Accuracy: {accuracy}%\")\n"
   ]
  },
  {
   "cell_type": "code",
   "execution_count": null,
   "id": "5fa62c48-0430-4cd7-bf86-5b6903000a45",
   "metadata": {},
   "outputs": [],
   "source": []
  }
 ],
 "metadata": {
  "kernelspec": {
   "display_name": "Python 3 (ipykernel)",
   "language": "python",
   "name": "python3"
  },
  "language_info": {
   "codemirror_mode": {
    "name": "ipython",
    "version": 3
   },
   "file_extension": ".py",
   "mimetype": "text/x-python",
   "name": "python",
   "nbconvert_exporter": "python",
   "pygments_lexer": "ipython3",
   "version": "3.12.3"
  }
 },
 "nbformat": 4,
 "nbformat_minor": 5
}

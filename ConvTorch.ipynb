{
 "cells": [
  {
   "cell_type": "code",
   "execution_count": 1,
   "id": "18e9e9f5-0fd3-4314-bfb3-597fca108bc2",
   "metadata": {},
   "outputs": [],
   "source": [
    "import torch.nn as nn\n",
    "import torch.nn.functional as F\n",
    "import torch\n",
    "import os\n",
    "import pandas as pd\n",
    "import cv2\n",
    "import torch.optim as optim\n",
    "from tqdm import tqdm\n",
    "import numpy as np"
   ]
  },
  {
   "cell_type": "markdown",
   "id": "aea74d50-802c-43c2-8a76-78c93affddbc",
   "metadata": {},
   "source": [
    "## preprocessing"
   ]
  },
  {
   "cell_type": "code",
   "execution_count": 20,
   "id": "511ff2ae-dac1-4592-9110-28434d264080",
   "metadata": {},
   "outputs": [
    {
     "name": "stdout",
     "output_type": "stream",
     "text": [
      "1\n",
      "2\n",
      "3\n",
      "4\n",
      "5\n"
     ]
    }
   ],
   "source": [
    "train_images = []\n",
    "for i in range(1, 50000 + 1):\n",
    "    if i%10000==0:\n",
    "        print(i//10000)\n",
    "    im = cv2.imread(os.path.join('train', f\"{i}.png\"), cv2.IMREAD_GRAYSCALE)\n",
    "    if im is not None:\n",
    "        \n",
    "        if np.random.rand() > 0.5:\n",
    "            im = cv2.flip(im, 1)\n",
    "        \n",
    "        im = torch.tensor(im, dtype=torch.float32).unsqueeze(0)  # [1, 32, 32]\n",
    "        im = im / 255.0  # Normalization\n",
    "        train_images.append(im)\n",
    "\n",
    "train_images = torch.stack(train_images)"
   ]
  },
  {
   "cell_type": "code",
   "execution_count": 21,
   "id": "cf4ae375-ad8a-4cdf-888a-c13d6f0e128f",
   "metadata": {},
   "outputs": [
    {
     "name": "stdout",
     "output_type": "stream",
     "text": [
      "tensor([0, 1, 1, 2, 3])\n"
     ]
    }
   ],
   "source": [
    "labels = pd.read_csv(\"trainLabels.csv\")\n",
    "labels['numeric_labels'] = pd.factorize(labels['label'])[0]\n",
    "\n",
    "main_labels=torch.tensor(labels['numeric_labels'])\n",
    "\n",
    "print(main_labels[:5])"
   ]
  },
  {
   "cell_type": "code",
   "execution_count": 22,
   "id": "d5fbc096-0fd7-4e29-b002-ed4f237f3bfa",
   "metadata": {},
   "outputs": [
    {
     "name": "stdout",
     "output_type": "stream",
     "text": [
      "tensor([0, 1, 1, 2, 3])\n",
      "torch.Size([50000, 1, 32, 32])\n"
     ]
    }
   ],
   "source": [
    "print(main_labels[:5])\n",
    "print(train_images.shape)"
   ]
  },
  {
   "cell_type": "code",
   "execution_count": 23,
   "id": "f463de34-a701-4240-af4d-a64b8a9b204f",
   "metadata": {},
   "outputs": [],
   "source": [
    "model = nn.Sequential(\n",
    "    nn.Conv2d(1, 16, 3, padding=1),  # [batch, 16, 32, 32]\n",
    "    nn.ReLU(),\n",
    "    nn.BatchNorm2d(16),  #  BN layer (16 channels)\n",
    "    nn.MaxPool2d(2, 2),  # [batch, 16, 16, 16]\n",
    "    nn.Conv2d(16, 32, 3, padding=1),  # [batch, 32, 16, 16]\n",
    "    nn.ReLU(),\n",
    "    nn.BatchNorm2d(32),  #  BN layer (32 channels)\n",
    "    nn.MaxPool2d(2, 2),  # [batch, 32, 8, 8]\n",
    "    nn.Flatten(),\n",
    "    nn.Linear(32 * 8 * 8, 128),\n",
    "    nn.ReLU(),\n",
    "    nn.BatchNorm1d(128),  \n",
    "    nn.Linear(128, 10)\n",
    ")"
   ]
  },
  {
   "cell_type": "code",
   "execution_count": 24,
   "id": "574f8783-2cec-4f6d-b295-3cdeb0ab367b",
   "metadata": {},
   "outputs": [],
   "source": [
    "optimizer = optim.Adam(model.parameters(), lr=0.001)  # Better optimizer than SGD lol\n",
    "criterion = nn.CrossEntropyLoss()"
   ]
  },
  {
   "cell_type": "code",
   "execution_count": 28,
   "id": "912976fe-9f8c-40ae-b4c9-d128b1c905c4",
   "metadata": {},
   "outputs": [
    {
     "name": "stdout",
     "output_type": "stream",
     "text": [
      "Epoch 1, Loss: 0.0017, Accuracy: 96.78%\n",
      "Epoch 2, Loss: 0.0009, Accuracy: 98.90%\n",
      "Epoch 3, Loss: 0.0007, Accuracy: 99.13%\n",
      "Epoch 4, Loss: 0.0015, Accuracy: 96.74%\n",
      "Epoch 5, Loss: 0.0016, Accuracy: 96.36%\n"
     ]
    }
   ],
   "source": [
    "batch_size = 64\n",
    "num_epochs = 5 # total 15 epochs with theese 5. \n",
    "\n",
    "for epoch in range(num_epochs):\n",
    "    epoch_loss = 0\n",
    "    correct = 0\n",
    "    for i in range(0, len(train_images), batch_size):\n",
    "        batch_images = train_images[i:i+batch_size]\n",
    "        # \n",
    "        batch_labels = main_labels[i:i+batch_size]\n",
    "        \n",
    "        optimizer.zero_grad()\n",
    "        outputs = model(batch_images)\n",
    "        loss = criterion(outputs, batch_labels)\n",
    "        loss.backward()\n",
    "        optimizer.step()\n",
    "        \n",
    "        epoch_loss += loss.item()\n",
    "        _, predicted = torch.max(outputs, 1)\n",
    "        correct += (predicted == batch_labels).sum().item()\n",
    "    \n",
    "    accuracy = 100 * correct / len(train_images)\n",
    "    print(f\"Epoch {epoch+1}, Loss: {epoch_loss/len(train_images):.4f}, Accuracy: {accuracy:.2f}%\")"
   ]
  },
  {
   "cell_type": "code",
   "execution_count": null,
   "id": "5fa62c48-0430-4cd7-bf86-5b6903000a45",
   "metadata": {},
   "outputs": [],
   "source": []
  }
 ],
 "metadata": {
  "kernelspec": {
   "display_name": "Python 3 (ipykernel)",
   "language": "python",
   "name": "python3"
  },
  "language_info": {
   "codemirror_mode": {
    "name": "ipython",
    "version": 3
   },
   "file_extension": ".py",
   "mimetype": "text/x-python",
   "name": "python",
   "nbconvert_exporter": "python",
   "pygments_lexer": "ipython3",
   "version": "3.12.3"
  }
 },
 "nbformat": 4,
 "nbformat_minor": 5
}
